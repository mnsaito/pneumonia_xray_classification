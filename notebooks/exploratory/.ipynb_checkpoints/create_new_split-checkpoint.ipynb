{
 "cells": [
  {
   "cell_type": "markdown",
   "metadata": {},
   "source": [
    "# Increase Images in Validation Set\n",
    "- Move 100 images from Test Set to Validation Set\n",
    "- Keep original images in original directories, and create new test and validation directories "
   ]
  },
  {
   "cell_type": "code",
   "execution_count": 1,
   "metadata": {},
   "outputs": [],
   "source": [
    "# Standard Imports\n",
    "import numpy as np\n",
    "import random\n",
    "import os\n",
    "import shutil"
   ]
  },
  {
   "cell_type": "code",
   "execution_count": 2,
   "metadata": {},
   "outputs": [],
   "source": [
    "# New test images will be placed in \"new_test\" directory, \n",
    "# and new validation images will be placed in \"new_val\" directory\n",
    "test_path = '../../chest_xray/test'\n",
    "val_path = '../../chest_xray/val'\n",
    "src = '../../chest_xray/new_test'\n",
    "dest = '../../chest_xray/new_val'"
   ]
  },
  {
   "cell_type": "code",
   "execution_count": 3,
   "metadata": {},
   "outputs": [
    {
     "name": "stdout",
     "output_type": "stream",
     "text": [
      "Number of normal x-rays to transfer from test to val: 38\n",
      "Number of pneumonia x-rays to transfer from test to val: 62\n"
     ]
    }
   ],
   "source": [
    "test_pneumonia_no = len(os.listdir(test_path + '/PNEUMONIA'))\n",
    "test_normal_no = len(os.listdir(test_path + '/NORMAL'))\n",
    "transfer_pneumonia = round(100 * test_pneumonia_no / (test_pneumonia_no + test_normal_no))\n",
    "transfer_normal = 100 - transfer_pneumonia\n",
    "print('Number of normal x-rays to transfer from test to val:', transfer_normal)\n",
    "print('Number of pneumonia x-rays to transfer from test to val:', transfer_pneumonia)"
   ]
  },
  {
   "cell_type": "markdown",
   "metadata": {},
   "source": [
    "### Copy images from test set to \"new_test\" directory (i.e., src), and images from validation set to \"new_val\" directory (i.e., dest)"
   ]
  },
  {
   "cell_type": "code",
   "execution_count": 4,
   "metadata": {},
   "outputs": [
    {
     "data": {
      "text/plain": [
       "'../../chest_xray/new_test'"
      ]
     },
     "execution_count": 4,
     "metadata": {},
     "output_type": "execute_result"
    }
   ],
   "source": [
    "shutil.copytree(test_path, src)"
   ]
  },
  {
   "cell_type": "code",
   "execution_count": 5,
   "metadata": {},
   "outputs": [
    {
     "data": {
      "text/plain": [
       "'../../chest_xray/new_val'"
      ]
     },
     "execution_count": 5,
     "metadata": {},
     "output_type": "execute_result"
    }
   ],
   "source": [
    "shutil.copytree(val_path, dest)"
   ]
  },
  {
   "cell_type": "markdown",
   "metadata": {},
   "source": [
    "### Confirm all files were copied"
   ]
  },
  {
   "cell_type": "code",
   "execution_count": 6,
   "metadata": {},
   "outputs": [],
   "source": [
    "def count_files(dir):\n",
    "    print('Number of Normal X-Rays:', len(os.listdir(dir + '/NORMAL')))\n",
    "    print('Number of Pneumonia X-Rays:', len(os.listdir(dir + '/PNEUMONIA')))\n",
    "    return"
   ]
  },
  {
   "cell_type": "code",
   "execution_count": 7,
   "metadata": {},
   "outputs": [
    {
     "name": "stdout",
     "output_type": "stream",
     "text": [
      "Number of Normal X-Rays: 234\n",
      "Number of Pneumonia X-Rays: 390\n"
     ]
    }
   ],
   "source": [
    "count_files(test_path)"
   ]
  },
  {
   "cell_type": "code",
   "execution_count": 8,
   "metadata": {},
   "outputs": [
    {
     "name": "stdout",
     "output_type": "stream",
     "text": [
      "Number of Normal X-Rays: 234\n",
      "Number of Pneumonia X-Rays: 390\n"
     ]
    }
   ],
   "source": [
    "count_files(src)"
   ]
  },
  {
   "cell_type": "code",
   "execution_count": 9,
   "metadata": {},
   "outputs": [
    {
     "name": "stdout",
     "output_type": "stream",
     "text": [
      "Number of Normal X-Rays: 8\n",
      "Number of Pneumonia X-Rays: 8\n"
     ]
    }
   ],
   "source": [
    "count_files(val_path)"
   ]
  },
  {
   "cell_type": "code",
   "execution_count": 10,
   "metadata": {},
   "outputs": [
    {
     "name": "stdout",
     "output_type": "stream",
     "text": [
      "Number of Normal X-Rays: 8\n",
      "Number of Pneumonia X-Rays: 8\n"
     ]
    }
   ],
   "source": [
    "count_files(dest)"
   ]
  },
  {
   "cell_type": "markdown",
   "metadata": {},
   "source": [
    "### Move 100 random images from new_test to new_val, and confirm by checking number of images in each file"
   ]
  },
  {
   "cell_type": "code",
   "execution_count": 11,
   "metadata": {},
   "outputs": [],
   "source": [
    "# Randomly transfer 100 x-rays from new_test to new_val\n",
    "for i in range(transfer_normal):\n",
    "    file = random.choice(os.listdir(src + '/NORMAL'))\n",
    "    src_path = os.path.join(src + '/NORMAL', file)\n",
    "    dest_path = os.path.join(dest + '/NORMAL', file)\n",
    "    shutil.move(src_path, dest_path)\n",
    "for i in range(transfer_pneumonia):\n",
    "    file = random.choice(os.listdir(src + '/PNEUMONIA'))\n",
    "    src_path = os.path.join(src + '/PNEUMONIA', file)\n",
    "    dest_path = os.path.join(dest + '/PNEUMONIA', file)\n",
    "    shutil.move(src_path, dest_path)"
   ]
  },
  {
   "cell_type": "code",
   "execution_count": 12,
   "metadata": {},
   "outputs": [
    {
     "name": "stdout",
     "output_type": "stream",
     "text": [
      "Number of Normal X-Rays: 234\n",
      "Number of Pneumonia X-Rays: 390\n"
     ]
    }
   ],
   "source": [
    "count_files(test_path)"
   ]
  },
  {
   "cell_type": "code",
   "execution_count": 13,
   "metadata": {},
   "outputs": [
    {
     "name": "stdout",
     "output_type": "stream",
     "text": [
      "Number of Normal X-Rays: 196\n",
      "Number of Pneumonia X-Rays: 328\n"
     ]
    }
   ],
   "source": [
    "count_files(src)"
   ]
  },
  {
   "cell_type": "code",
   "execution_count": 14,
   "metadata": {},
   "outputs": [
    {
     "name": "stdout",
     "output_type": "stream",
     "text": [
      "Number of Normal X-Rays: 8\n",
      "Number of Pneumonia X-Rays: 8\n"
     ]
    }
   ],
   "source": [
    "count_files(val_path)"
   ]
  },
  {
   "cell_type": "code",
   "execution_count": 15,
   "metadata": {},
   "outputs": [
    {
     "name": "stdout",
     "output_type": "stream",
     "text": [
      "Number of Normal X-Rays: 46\n",
      "Number of Pneumonia X-Rays: 70\n"
     ]
    }
   ],
   "source": [
    "count_files(dest)"
   ]
  },
  {
   "cell_type": "code",
   "execution_count": null,
   "metadata": {},
   "outputs": [],
   "source": []
  }
 ],
 "metadata": {
  "kernelspec": {
   "display_name": "Python 3 (ipykernel)",
   "language": "python",
   "name": "python3"
  },
  "language_info": {
   "codemirror_mode": {
    "name": "ipython",
    "version": 3
   },
   "file_extension": ".py",
   "mimetype": "text/x-python",
   "name": "python",
   "nbconvert_exporter": "python",
   "pygments_lexer": "ipython3",
   "version": "3.9.7"
  }
 },
 "nbformat": 4,
 "nbformat_minor": 4
}
